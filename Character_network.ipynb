{
 "cells": [
  {
   "cell_type": "markdown",
   "metadata": {},
   "source": [
    "## Preamble"
   ]
  },
  {
   "cell_type": "code",
   "execution_count": null,
   "metadata": {
    "collapsed": true
   },
   "outputs": [],
   "source": [
    "!curl -s \"https://raw.githubusercontent.com/Yoonsen/Modules/master/module_update.py\" > \"module_update.py\""
   ]
  },
  {
   "cell_type": "code",
   "execution_count": null,
   "metadata": {},
   "outputs": [],
   "source": [
    "from module_update import update, css, code_toggle, printmd"
   ]
  },
  {
   "cell_type": "code",
   "execution_count": null,
   "metadata": {},
   "outputs": [],
   "source": [
    "css()"
   ]
  },
  {
   "cell_type": "code",
   "execution_count": null,
   "metadata": {
    "collapsed": true
   },
   "outputs": [],
   "source": [
    "import warnings\n",
    "warnings.filterwarnings('ignore')"
   ]
  },
  {
   "cell_type": "code",
   "execution_count": null,
   "metadata": {},
   "outputs": [],
   "source": [
    "update('graph_networkx_louvain')\n",
    "import nbtext as nb\n",
    "from nbtext import get_urn, make_graph, get_urn, relaterte_ord, navn, totals\n",
    "import graph_networkx_louvain as gnl\n",
    "%matplotlib inline"
   ]
  },
  {
   "cell_type": "markdown",
   "metadata": {},
   "source": [
    "### Utility functions"
   ]
  },
  {
   "cell_type": "code",
   "execution_count": null,
   "metadata": {
    "collapsed": true
   },
   "outputs": [],
   "source": [
    "# tm_red is a reduced token map\n",
    "coord_name = lambda names, tm_red: [[na for na in names[0] if (na,) in [z[0] for z in tm_red ]]] + [list(set(na) & set([z[0] for z in tm_red])) for na in names[1:]]\n",
    "\n",
    "token_map_names = lambda tmap: [\n",
    "    [z[0][0] for z in nb.token_map_to_tuples(tmap) if len(z[0]) == 1]\n",
    "] + [\n",
    "    [z[0] for z in nb.token_map_to_tuples(tmap) if len(z[0]) == 2]\n",
    "] + [\n",
    "    [z[0] for z in nb.token_map_to_tuples(tmap) if len(z[0]) == 3]\n",
    "]+ [\n",
    "    [z[0] for z in nb.token_map_to_tuples(tmap) if len(z[0]) == 4]\n",
    "]\n",
    "\n",
    "# create a character network with only tokens in tokenmap\n",
    "# see nb.make_network_name_graph in nbtext\n",
    "character_network = lambda urn, tm: nb.make_network_name_graph(urn, token_map_names(tm), tokenmap = nb.token_map_to_tuples(tm))\n",
    "\n",
    "\n",
    "# edge counts\n",
    "edge_counts = lambda G, count=1: [edges for edges in G.edges(data=True) if edges[2]['weight'] <= count]\n",
    "\n",
    "# new edges\n",
    "remove_edges = lambda G, count=1: [(edges[0], edges[1]) for edges in G.edges(data=True) if edges[2]['weight'] > count]"
   ]
  },
  {
   "cell_type": "markdown",
   "metadata": {},
   "source": [
    "## Name graphs\n",
    "\n",
    "Here we are looking for Tolstoj's War and Peace"
   ]
  },
  {
   "cell_type": "code",
   "execution_count": null,
   "metadata": {
    "scrolled": true
   },
   "outputs": [],
   "source": [
    "# Fetch URNs\n",
    "\n",
    "urns = get_urn({\n",
    "    'author':'masterson%lou%', \n",
    "    'year':1900, \n",
    "    'neste':160,\n",
    "    'limit':100,\n",
    "    'title':'%%'\n",
    "    \n",
    "})\n",
    "urns"
   ]
  },
  {
   "cell_type": "markdown",
   "metadata": {},
   "source": [
    "The largest seems to be 2011061508082, so we use that one."
   ]
  },
  {
   "cell_type": "code",
   "execution_count": null,
   "metadata": {
    "collapsed": true
   },
   "outputs": [],
   "source": [
    "BOOK = 2008082104049"
   ]
  },
  {
   "cell_type": "markdown",
   "metadata": {},
   "source": [
    "## Find names, everything with capital letters...\n"
   ]
  },
  {
   "cell_type": "markdown",
   "metadata": {},
   "source": [
    "Command for finding names is `names()`. It returns a tuple of name sequences, we only use single names for this part, so select the first part."
   ]
  },
  {
   "cell_type": "code",
   "execution_count": null,
   "metadata": {},
   "outputs": [],
   "source": [
    "wp = nb.names(BOOK, cutoff=3)\n",
    "print(wp)"
   ]
  },
  {
   "cell_type": "markdown",
   "metadata": {},
   "source": [
    "## Check some names with concordance\n",
    "\n",
    "## Only single word names can be checked (multi word in the making....)"
   ]
  },
  {
   "cell_type": "code",
   "execution_count": null,
   "metadata": {},
   "outputs": [],
   "source": [
    "nb.urn_concordance(urns=BOOK, word='Theresa')"
   ]
  },
  {
   "cell_type": "markdown",
   "metadata": {},
   "source": [
    "## check tokens with command `nb.token_map(character_names, strings = Bool)` the value of parameter `strings` can be `True` or `False`, default is `False` :"
   ]
  },
  {
   "cell_type": "code",
   "execution_count": null,
   "metadata": {},
   "outputs": [],
   "source": [
    "nb.token_map(wp)"
   ]
  },
  {
   "cell_type": "code",
   "execution_count": null,
   "metadata": {},
   "outputs": [],
   "source": [
    "nb.token_map(wp, strings=True)"
   ]
  },
  {
   "cell_type": "markdown",
   "metadata": {},
   "source": [
    "## There are three commands for creating a graph\n",
    "\n",
    "### Make a network using a a list of words applied to a book\n",
    "### `nb.make_network(bookref, list_of_words)`\n",
    "\n",
    "### Network with a set of tokens (from `nb.names`), and an optional token map, cutoff is also optional\n",
    "###  `nb.make_network_name_graph(bookref, tokens, token_map, cutoff)`\n",
    "\n",
    "### Network using values from token_map. Only tokens in the token map are analyzed\n",
    "###  `character_network(bookref, tokens, token_map)`"
   ]
  },
  {
   "cell_type": "code",
   "execution_count": null,
   "metadata": {},
   "outputs": [],
   "source": [
    "# Here we create a list of tokens\n",
    "graf = nb.make_network(BOOK, list(wp[0].keys()))"
   ]
  },
  {
   "cell_type": "markdown",
   "metadata": {},
   "source": [
    "# Draw graph with `gnl.show_graph(Graph, spread=0.2)` "
   ]
  },
  {
   "cell_type": "code",
   "execution_count": null,
   "metadata": {},
   "outputs": [],
   "source": [
    "gnl.show_graph(graf, spread=1.8)"
   ]
  },
  {
   "cell_type": "code",
   "execution_count": null,
   "metadata": {},
   "outputs": [],
   "source": []
  },
  {
   "cell_type": "code",
   "execution_count": null,
   "metadata": {},
   "outputs": [],
   "source": [
    "g2 = nb.make_network_name_graph(BOOK, wp, cutoff = 5)"
   ]
  },
  {
   "cell_type": "code",
   "execution_count": null,
   "metadata": {},
   "outputs": [],
   "source": [
    "gnl.show_graph(g2)"
   ]
  },
  {
   "cell_type": "markdown",
   "metadata": {},
   "source": [
    "# Draw with an edited token map"
   ]
  },
  {
   "cell_type": "code",
   "execution_count": null,
   "metadata": {},
   "outputs": [],
   "source": [
    "tokenmap = nb.token_map(wp, strings=True)\n",
    "tokenmap"
   ]
  },
  {
   "cell_type": "markdown",
   "metadata": {},
   "source": [
    "## copy the output from above an prepare it for edits:"
   ]
  },
  {
   "cell_type": "code",
   "execution_count": null,
   "metadata": {
    "collapsed": true
   },
   "outputs": [],
   "source": [
    "name_edits = ['Balsa ==> Balsa_Hermanos-brødrene',\n",
    " 'City ==> Mexico_City',\n",
    " 'Cordoba ==> Cordoba',\n",
    " #'Dem ==> Dem',\n",
    " #'Deres ==> Deres',\n",
    " 'Diablito ==> El_Diablito',\n",
    " #'Din ==> Din',\n",
    " 'El ==> El_Hule',\n",
    " #'Er ==> Er',\n",
    " #'Godt ==> Godt',\n",
    " 'Hermanos ==> Balsa_Hermanos',\n",
    " 'Hermanos-brødrene ==> Balsa_Hermanos-brødrene',\n",
    " 'Hermosillo ==> Hermosillo',\n",
    " 'Herrera ==> Herrera',\n",
    " #'Hjelp ==> Hjelp',\n",
    " #'Hm ==> Hm',\n",
    " #'Hold ==> Hold',\n",
    " 'Hondura ==> Hondura',\n",
    " 'Hule ==> El_Hule',\n",
    " #'Ja ==> Ja',\n",
    " 'Jefe ==> El_Jefe',\n",
    " 'Joaquin ==> Joaquin',\n",
    " #'Kan ==> Kan',\n",
    " #'Kom ==> Kom',\n",
    " 'Lara ==> Lara',\n",
    " 'Lesaca ==> Luis_Lesaca',\n",
    " 'Luis ==> Luis_Lesaca',\n",
    " 'Låra ==> Låra',\n",
    " 'Madonna ==> Madonna',\n",
    " 'Maria ==> Theresa_Maria_Silveti',\n",
    " 'Mendez ==> Mendez',\n",
    " 'Mexico ==> Mexico_City',\n",
    " 'Michelangelo ==> Michelangelo',\n",
    " 'Mirador ==> El_Mirador',\n",
    " 'Nanche ==> Nanche',\n",
    " #'Nr ==> Nr',\n",
    " 'Nådens ==> Nådens',\n",
    " 'Pedrito ==> Pedrito',\n",
    " 'Peter ==> Peter',\n",
    " 'Pla ==> Senor_Pla',\n",
    " 'Royal ==> Valle_Royal',\n",
    " 'Sanchez ==> Maria_Sanchez',\n",
    " 'Senor ==> Senor_Sanchez',\n",
    " #'Si ==> Si',\n",
    " 'Silveti ==> Theresa_Maria_Silveti',\n",
    " #'Ta ==> Ta',\n",
    " #'Takk ==> Takk',\n",
    " 'Theresa ==> Theresa_Maria_Silveti',\n",
    " 'Tresgallo ==> Tresgallo',\n",
    " 'Tuztepec ==> Tuztepec',\n",
    " #'Unnskyld ==> Unnskyld',\n",
    " 'Valle ==> Valle_Royal',\n",
    " 'Veracruz ==> Veracruz',\n",
    " 'Veronica ==> Veronica',\n",
    " 'Valle_Royal ==> Valle_Royal',\n",
    " 'El_Hule ==> El_Hule',\n",
    " 'Balsa_Hermanos-brødrene ==> Balsa_Hermanos-brødrene',\n",
    " 'Balsa_Hermanos ==> Balsa_Hermanos',\n",
    " 'Mexico_City ==> Mexico_City',\n",
    " 'Maria_Sanchez ==> Maria_Sanchez',\n",
    " 'Theresa_Maria ==> Theresa_Maria_Silveti',\n",
    " 'Senor_Sanchez ==> Senor_Sanchez',\n",
    " 'El_Mirador ==> El_Mirador',\n",
    " 'Senor_Pla ==> Senor_Pla',\n",
    " 'Luis_Lesaca ==> Luis_Lesaca',\n",
    " 'El_Diablito ==> El_Diablito',\n",
    " 'Maria_Theresa ==> Theresa_Maria_Silveti',\n",
    " 'Maria_Silveti ==> Theresa_Maria_Silveti',\n",
    " 'El_Jefe ==> El_Jefe',\n",
    " 'Theresa_Maria_Silveti ==> Theresa_Maria_Silveti']"
   ]
  },
  {
   "cell_type": "code",
   "execution_count": null,
   "metadata": {},
   "outputs": [],
   "source": [
    "token_map_names(name_edits)"
   ]
  },
  {
   "cell_type": "code",
   "execution_count": null,
   "metadata": {},
   "outputs": [],
   "source": [
    "g_edits = character_network(BOOK,  name_edits)"
   ]
  },
  {
   "cell_type": "code",
   "execution_count": null,
   "metadata": {},
   "outputs": [],
   "source": [
    "gnl.show_graph(g_edits)"
   ]
  },
  {
   "cell_type": "markdown",
   "metadata": {},
   "source": [
    "Growth diagrams plot the sequential development of the characters. Experiment with different values of parameters."
   ]
  },
  {
   "cell_type": "code",
   "execution_count": null,
   "metadata": {},
   "outputs": [],
   "source": [
    "g2.edges(data=True)"
   ]
  },
  {
   "cell_type": "markdown",
   "metadata": {},
   "source": [
    "## Check if there are edges below a certain count"
   ]
  },
  {
   "cell_type": "code",
   "execution_count": null,
   "metadata": {},
   "outputs": [],
   "source": [
    "edge_counts(g2, 6)"
   ]
  },
  {
   "cell_type": "markdown",
   "metadata": {},
   "source": [
    "## Draw graph without those edges\n",
    "\n",
    "Experiment with count parameter - green number"
   ]
  },
  {
   "cell_type": "code",
   "execution_count": null,
   "metadata": {},
   "outputs": [],
   "source": [
    "gnl.show_graph(g2.edge_subgraph(remove_edges(g2, 15)))"
   ]
  },
  {
   "cell_type": "markdown",
   "metadata": {},
   "source": [
    "# Remove edges below a certain count"
   ]
  },
  {
   "cell_type": "code",
   "execution_count": null,
   "metadata": {},
   "outputs": [],
   "source": [
    "remove_edges(g2,6)"
   ]
  },
  {
   "cell_type": "code",
   "execution_count": null,
   "metadata": {},
   "outputs": [],
   "source": [
    "gnl.show_communities(g2)"
   ]
  },
  {
   "cell_type": "code",
   "execution_count": null,
   "metadata": {},
   "outputs": [],
   "source": [
    "gnl.community_dict(g2)"
   ]
  },
  {
   "cell_type": "code",
   "execution_count": null,
   "metadata": {},
   "outputs": [],
   "source": [
    "wp_diagram = nb.plot_book_wordbags(BOOK,gnl.community_dict(g2) ,window=20000)"
   ]
  },
  {
   "cell_type": "code",
   "execution_count": null,
   "metadata": {},
   "outputs": [],
   "source": [
    "wp_diagram.rolling(window=10).mean().plot(figsize=(15,6), lw=3, alpha=0.7)"
   ]
  },
  {
   "cell_type": "code",
   "execution_count": null,
   "metadata": {
    "collapsed": true
   },
   "outputs": [],
   "source": [
    "nb.plot_sammen_vekst??"
   ]
  }
 ],
 "metadata": {
  "hide_input": false,
  "kernelspec": {
   "display_name": "Python [default]",
   "language": "python",
   "name": "python3"
  },
  "language_info": {
   "codemirror_mode": {
    "name": "ipython",
    "version": 3
   },
   "file_extension": ".py",
   "mimetype": "text/x-python",
   "name": "python",
   "nbconvert_exporter": "python",
   "pygments_lexer": "ipython3",
   "version": "3.6.3"
  }
 },
 "nbformat": 4,
 "nbformat_minor": 2
}
